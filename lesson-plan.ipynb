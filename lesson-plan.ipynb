{
 "cells": [
  {
   "cell_type": "markdown",
   "metadata": {},
   "source": [
    "### Questions"
   ]
  },
  {
   "cell_type": "markdown",
   "metadata": {},
   "source": [
    "### Objectives\n",
    "* Apply techniques to solve a linear regression problem\n",
    "* Create multilinear regression models and change them to optimize results"
   ]
  },
  {
   "cell_type": "markdown",
   "metadata": {},
   "source": [
    "### Outline"
   ]
  },
  {
   "cell_type": "code",
   "execution_count": 30,
   "metadata": {},
   "outputs": [],
   "source": [
    "import pandas as pd\n",
    "import numpy as np\n",
    "from statsmodels.stats.outliers_influence import variance_inflation_factor\n",
    "from statsmodels.formula.api import ols\n",
    "import scipy.stats as stats\n",
    "from sklearn.linear_model import LinearRegression\n",
    "from sklearn.model_selection import train_test_split\n",
    "\n",
    "\n",
    "import matplotlib.pyplot as plt\n",
    "import seaborn as sns"
   ]
  },
  {
   "cell_type": "markdown",
   "metadata": {},
   "source": [
    "### Task, build a model in 35-40 minutes and present it to the class \n",
    "Dataset - ```BNG_cholesterol.csv ```\n",
    "\n",
    "Target - ```chol```\n",
    "\n",
    "No. Features - ```13```"
   ]
  },
  {
   "cell_type": "code",
   "execution_count": 2,
   "metadata": {},
   "outputs": [
    {
     "data": {
      "text/html": [
       "<div>\n",
       "<style scoped>\n",
       "    .dataframe tbody tr th:only-of-type {\n",
       "        vertical-align: middle;\n",
       "    }\n",
       "\n",
       "    .dataframe tbody tr th {\n",
       "        vertical-align: top;\n",
       "    }\n",
       "\n",
       "    .dataframe thead th {\n",
       "        text-align: right;\n",
       "    }\n",
       "</style>\n",
       "<table border=\"1\" class=\"dataframe\">\n",
       "  <thead>\n",
       "    <tr style=\"text-align: right;\">\n",
       "      <th></th>\n",
       "      <th>age</th>\n",
       "      <th>sex</th>\n",
       "      <th>cp</th>\n",
       "      <th>trestbps</th>\n",
       "      <th>fbs</th>\n",
       "      <th>restecg</th>\n",
       "      <th>thalach</th>\n",
       "      <th>exang</th>\n",
       "      <th>oldpeak</th>\n",
       "      <th>slope</th>\n",
       "      <th>ca</th>\n",
       "      <th>thal</th>\n",
       "      <th>num</th>\n",
       "      <th>chol</th>\n",
       "    </tr>\n",
       "  </thead>\n",
       "  <tbody>\n",
       "    <tr>\n",
       "      <th>0</th>\n",
       "      <td>46.950938</td>\n",
       "      <td>1</td>\n",
       "      <td>1</td>\n",
       "      <td>165.981331</td>\n",
       "      <td>0</td>\n",
       "      <td>2</td>\n",
       "      <td>152.691434</td>\n",
       "      <td>0</td>\n",
       "      <td>1.774223</td>\n",
       "      <td>2</td>\n",
       "      <td>0</td>\n",
       "      <td>7</td>\n",
       "      <td>3</td>\n",
       "      <td>265.569780</td>\n",
       "    </tr>\n",
       "    <tr>\n",
       "      <th>1</th>\n",
       "      <td>47.359284</td>\n",
       "      <td>1</td>\n",
       "      <td>4</td>\n",
       "      <td>134.748286</td>\n",
       "      <td>0</td>\n",
       "      <td>2</td>\n",
       "      <td>132.079047</td>\n",
       "      <td>1</td>\n",
       "      <td>0.407640</td>\n",
       "      <td>2</td>\n",
       "      <td>0</td>\n",
       "      <td>7</td>\n",
       "      <td>0</td>\n",
       "      <td>269.368061</td>\n",
       "    </tr>\n",
       "    <tr>\n",
       "      <th>2</th>\n",
       "      <td>58.455787</td>\n",
       "      <td>1</td>\n",
       "      <td>4</td>\n",
       "      <td>129.456617</td>\n",
       "      <td>0</td>\n",
       "      <td>0</td>\n",
       "      <td>164.523754</td>\n",
       "      <td>1</td>\n",
       "      <td>5.284900</td>\n",
       "      <td>2</td>\n",
       "      <td>0</td>\n",
       "      <td>7</td>\n",
       "      <td>4</td>\n",
       "      <td>244.336917</td>\n",
       "    </tr>\n",
       "    <tr>\n",
       "      <th>3</th>\n",
       "      <td>56.070298</td>\n",
       "      <td>1</td>\n",
       "      <td>4</td>\n",
       "      <td>124.831749</td>\n",
       "      <td>0</td>\n",
       "      <td>2</td>\n",
       "      <td>181.453944</td>\n",
       "      <td>0</td>\n",
       "      <td>1.096476</td>\n",
       "      <td>1</td>\n",
       "      <td>1</td>\n",
       "      <td>7</td>\n",
       "      <td>2</td>\n",
       "      <td>237.985356</td>\n",
       "    </tr>\n",
       "    <tr>\n",
       "      <th>4</th>\n",
       "      <td>44.121116</td>\n",
       "      <td>1</td>\n",
       "      <td>4</td>\n",
       "      <td>109.887955</td>\n",
       "      <td>0</td>\n",
       "      <td>2</td>\n",
       "      <td>110.055090</td>\n",
       "      <td>1</td>\n",
       "      <td>0.437412</td>\n",
       "      <td>2</td>\n",
       "      <td>0</td>\n",
       "      <td>3</td>\n",
       "      <td>1</td>\n",
       "      <td>245.907334</td>\n",
       "    </tr>\n",
       "  </tbody>\n",
       "</table>\n",
       "</div>"
      ],
      "text/plain": [
       "         age  sex  cp    trestbps  fbs  restecg     thalach  exang   oldpeak  \\\n",
       "0  46.950938    1   1  165.981331    0        2  152.691434      0  1.774223   \n",
       "1  47.359284    1   4  134.748286    0        2  132.079047      1  0.407640   \n",
       "2  58.455787    1   4  129.456617    0        0  164.523754      1  5.284900   \n",
       "3  56.070298    1   4  124.831749    0        2  181.453944      0  1.096476   \n",
       "4  44.121116    1   4  109.887955    0        2  110.055090      1  0.437412   \n",
       "\n",
       "   slope  ca  thal  num        chol  \n",
       "0      2   0     7    3  265.569780  \n",
       "1      2   0     7    0  269.368061  \n",
       "2      2   0     7    4  244.336917  \n",
       "3      1   1     7    2  237.985356  \n",
       "4      2   0     3    1  245.907334  "
      ]
     },
     "execution_count": 2,
     "metadata": {},
     "output_type": "execute_result"
    }
   ],
   "source": [
    "df = pd.read_csv(\"./data/BNG_cholesterol.csv\")\n",
    "df.head()"
   ]
  },
  {
   "cell_type": "markdown",
   "metadata": {},
   "source": [
    "### Clean Data"
   ]
  },
  {
   "cell_type": "code",
   "execution_count": 7,
   "metadata": {
    "scrolled": true
   },
   "outputs": [
    {
     "data": {
      "text/html": [
       "<div>\n",
       "<style scoped>\n",
       "    .dataframe tbody tr th:only-of-type {\n",
       "        vertical-align: middle;\n",
       "    }\n",
       "\n",
       "    .dataframe tbody tr th {\n",
       "        vertical-align: top;\n",
       "    }\n",
       "\n",
       "    .dataframe thead th {\n",
       "        text-align: right;\n",
       "    }\n",
       "</style>\n",
       "<table border=\"1\" class=\"dataframe\">\n",
       "  <thead>\n",
       "    <tr style=\"text-align: right;\">\n",
       "      <th></th>\n",
       "      <th>age</th>\n",
       "      <th>sex</th>\n",
       "      <th>cp</th>\n",
       "      <th>trestbps</th>\n",
       "      <th>fbs</th>\n",
       "      <th>restecg</th>\n",
       "      <th>thalach</th>\n",
       "      <th>exang</th>\n",
       "      <th>oldpeak</th>\n",
       "      <th>slope</th>\n",
       "      <th>ca</th>\n",
       "      <th>thal</th>\n",
       "      <th>num</th>\n",
       "      <th>chol</th>\n",
       "    </tr>\n",
       "  </thead>\n",
       "  <tbody>\n",
       "    <tr>\n",
       "      <th>count</th>\n",
       "      <td>1000000.000000</td>\n",
       "      <td>1000000.000000</td>\n",
       "      <td>1000000.000000</td>\n",
       "      <td>1000000.000000</td>\n",
       "      <td>1000000.000000</td>\n",
       "      <td>1000000.000000</td>\n",
       "      <td>1000000.000000</td>\n",
       "      <td>1000000.000000</td>\n",
       "      <td>1000000.000000</td>\n",
       "      <td>1000000.000000</td>\n",
       "      <td>1000000.000000</td>\n",
       "      <td>1000000.000000</td>\n",
       "      <td>1000000.000000</td>\n",
       "      <td>1000000.000000</td>\n",
       "    </tr>\n",
       "    <tr>\n",
       "      <th>mean</th>\n",
       "      <td>54.476480</td>\n",
       "      <td>0.684332</td>\n",
       "      <td>3.131843</td>\n",
       "      <td>131.618653</td>\n",
       "      <td>0.153198</td>\n",
       "      <td>0.996614</td>\n",
       "      <td>149.446876</td>\n",
       "      <td>0.340702</td>\n",
       "      <td>1.216292</td>\n",
       "      <td>1.701165</td>\n",
       "      <td>0.684473</td>\n",
       "      <td>4.792311</td>\n",
       "      <td>1.157491</td>\n",
       "      <td>246.734532</td>\n",
       "    </tr>\n",
       "    <tr>\n",
       "      <th>std</th>\n",
       "      <td>9.004734</td>\n",
       "      <td>0.464782</td>\n",
       "      <td>0.971611</td>\n",
       "      <td>17.645400</td>\n",
       "      <td>0.360178</td>\n",
       "      <td>0.990117</td>\n",
       "      <td>23.260183</td>\n",
       "      <td>0.473946</td>\n",
       "      <td>1.172394</td>\n",
       "      <td>0.653485</td>\n",
       "      <td>0.940196</td>\n",
       "      <td>1.922950</td>\n",
       "      <td>1.352534</td>\n",
       "      <td>51.736224</td>\n",
       "    </tr>\n",
       "    <tr>\n",
       "      <th>min</th>\n",
       "      <td>24.961463</td>\n",
       "      <td>0.000000</td>\n",
       "      <td>1.000000</td>\n",
       "      <td>83.615276</td>\n",
       "      <td>0.000000</td>\n",
       "      <td>0.000000</td>\n",
       "      <td>63.079527</td>\n",
       "      <td>0.000000</td>\n",
       "      <td>-0.530058</td>\n",
       "      <td>1.000000</td>\n",
       "      <td>0.000000</td>\n",
       "      <td>3.000000</td>\n",
       "      <td>0.000000</td>\n",
       "      <td>98.749664</td>\n",
       "    </tr>\n",
       "    <tr>\n",
       "      <th>25%</th>\n",
       "      <td>48.309046</td>\n",
       "      <td>0.000000</td>\n",
       "      <td>3.000000</td>\n",
       "      <td>120.330773</td>\n",
       "      <td>0.000000</td>\n",
       "      <td>0.000000</td>\n",
       "      <td>135.577669</td>\n",
       "      <td>0.000000</td>\n",
       "      <td>0.203006</td>\n",
       "      <td>1.000000</td>\n",
       "      <td>0.000000</td>\n",
       "      <td>3.000000</td>\n",
       "      <td>0.000000</td>\n",
       "      <td>213.669965</td>\n",
       "    </tr>\n",
       "    <tr>\n",
       "      <th>50%</th>\n",
       "      <td>55.512484</td>\n",
       "      <td>1.000000</td>\n",
       "      <td>3.000000</td>\n",
       "      <td>129.937426</td>\n",
       "      <td>0.000000</td>\n",
       "      <td>1.000000</td>\n",
       "      <td>153.040786</td>\n",
       "      <td>0.000000</td>\n",
       "      <td>0.998942</td>\n",
       "      <td>2.000000</td>\n",
       "      <td>0.000000</td>\n",
       "      <td>3.000000</td>\n",
       "      <td>1.000000</td>\n",
       "      <td>241.036442</td>\n",
       "    </tr>\n",
       "    <tr>\n",
       "      <th>75%</th>\n",
       "      <td>60.538989</td>\n",
       "      <td>1.000000</td>\n",
       "      <td>4.000000</td>\n",
       "      <td>139.997132</td>\n",
       "      <td>0.000000</td>\n",
       "      <td>2.000000</td>\n",
       "      <td>165.855131</td>\n",
       "      <td>1.000000</td>\n",
       "      <td>1.776590</td>\n",
       "      <td>2.000000</td>\n",
       "      <td>1.000000</td>\n",
       "      <td>7.000000</td>\n",
       "      <td>2.000000</td>\n",
       "      <td>271.811430</td>\n",
       "    </tr>\n",
       "    <tr>\n",
       "      <th>max</th>\n",
       "      <td>80.955026</td>\n",
       "      <td>1.000000</td>\n",
       "      <td>4.000000</td>\n",
       "      <td>211.292502</td>\n",
       "      <td>1.000000</td>\n",
       "      <td>2.000000</td>\n",
       "      <td>206.227856</td>\n",
       "      <td>1.000000</td>\n",
       "      <td>6.832899</td>\n",
       "      <td>3.000000</td>\n",
       "      <td>3.000000</td>\n",
       "      <td>7.000000</td>\n",
       "      <td>4.000000</td>\n",
       "      <td>513.214158</td>\n",
       "    </tr>\n",
       "  </tbody>\n",
       "</table>\n",
       "</div>"
      ],
      "text/plain": [
       "                  age             sex              cp        trestbps  \\\n",
       "count  1000000.000000  1000000.000000  1000000.000000  1000000.000000   \n",
       "mean        54.476480        0.684332        3.131843      131.618653   \n",
       "std          9.004734        0.464782        0.971611       17.645400   \n",
       "min         24.961463        0.000000        1.000000       83.615276   \n",
       "25%         48.309046        0.000000        3.000000      120.330773   \n",
       "50%         55.512484        1.000000        3.000000      129.937426   \n",
       "75%         60.538989        1.000000        4.000000      139.997132   \n",
       "max         80.955026        1.000000        4.000000      211.292502   \n",
       "\n",
       "                  fbs         restecg         thalach           exang  \\\n",
       "count  1000000.000000  1000000.000000  1000000.000000  1000000.000000   \n",
       "mean         0.153198        0.996614      149.446876        0.340702   \n",
       "std          0.360178        0.990117       23.260183        0.473946   \n",
       "min          0.000000        0.000000       63.079527        0.000000   \n",
       "25%          0.000000        0.000000      135.577669        0.000000   \n",
       "50%          0.000000        1.000000      153.040786        0.000000   \n",
       "75%          0.000000        2.000000      165.855131        1.000000   \n",
       "max          1.000000        2.000000      206.227856        1.000000   \n",
       "\n",
       "              oldpeak           slope              ca            thal  \\\n",
       "count  1000000.000000  1000000.000000  1000000.000000  1000000.000000   \n",
       "mean         1.216292        1.701165        0.684473        4.792311   \n",
       "std          1.172394        0.653485        0.940196        1.922950   \n",
       "min         -0.530058        1.000000        0.000000        3.000000   \n",
       "25%          0.203006        1.000000        0.000000        3.000000   \n",
       "50%          0.998942        2.000000        0.000000        3.000000   \n",
       "75%          1.776590        2.000000        1.000000        7.000000   \n",
       "max          6.832899        3.000000        3.000000        7.000000   \n",
       "\n",
       "                  num            chol  \n",
       "count  1000000.000000  1000000.000000  \n",
       "mean         1.157491      246.734532  \n",
       "std          1.352534       51.736224  \n",
       "min          0.000000       98.749664  \n",
       "25%          0.000000      213.669965  \n",
       "50%          1.000000      241.036442  \n",
       "75%          2.000000      271.811430  \n",
       "max          4.000000      513.214158  "
      ]
     },
     "execution_count": 7,
     "metadata": {},
     "output_type": "execute_result"
    }
   ],
   "source": [
    "df.describe()"
   ]
  },
  {
   "cell_type": "code",
   "execution_count": 3,
   "metadata": {
    "scrolled": true
   },
   "outputs": [
    {
     "name": "stdout",
     "output_type": "stream",
     "text": [
      "<class 'pandas.core.frame.DataFrame'>\n",
      "RangeIndex: 1000000 entries, 0 to 999999\n",
      "Data columns (total 14 columns):\n",
      "age         1000000 non-null float64\n",
      "sex         1000000 non-null int64\n",
      "cp          1000000 non-null int64\n",
      "trestbps    1000000 non-null float64\n",
      "fbs         1000000 non-null int64\n",
      "restecg     1000000 non-null int64\n",
      "thalach     1000000 non-null float64\n",
      "exang       1000000 non-null int64\n",
      "oldpeak     1000000 non-null float64\n",
      "slope       1000000 non-null int64\n",
      "ca          1000000 non-null int64\n",
      "thal        1000000 non-null int64\n",
      "num         1000000 non-null int64\n",
      "chol        1000000 non-null float64\n",
      "dtypes: float64(5), int64(9)\n",
      "memory usage: 106.8 MB\n"
     ]
    }
   ],
   "source": [
    "df.info()"
   ]
  },
  {
   "cell_type": "code",
   "execution_count": 6,
   "metadata": {
    "scrolled": false
   },
   "outputs": [
    {
     "data": {
      "image/png": "[encoded data removed]",
      "text/plain": [
       "<Figure size 1080x720 with 16 Axes>"
      ]
     },
     "metadata": {
      "needs_background": "light"
     },
     "output_type": "display_data"
    }
   ],
   "source": [
    "df.hist(figsize=(15,10));"
   ]
  },
  {
   "cell_type": "code",
   "execution_count": 25,
   "metadata": {},
   "outputs": [
    {
     "data": {
      "text/plain": [
       "['ca',\n",
       " 'cp',\n",
       " 'exang',\n",
       " 'fbs',\n",
       " 'num',\n",
       " 'restecg',\n",
       " 'sex',\n",
       " 'slope',\n",
       " 'thal',\n",
       " 'age',\n",
       " 'oldpeak',\n",
       " 'thalach',\n",
       " 'trestbps']"
      ]
     },
     "execution_count": 25,
     "metadata": {},
     "output_type": "execute_result"
    }
   ],
   "source": [
    "cols = df.columns.drop('chol')\n",
    "categorical = ['ca','cp','exang','fbs','num','restecg','sex','slope','thal']\n",
    "numerical = ['age','oldpeak','thalach','trestbps']\n",
    "target = ['chol']\n",
    "features = categorical + numerical\n",
    "features"
   ]
  },
  {
   "cell_type": "markdown",
   "metadata": {},
   "source": [
    "### Correlation Matrix + Interpretation"
   ]
  },
  {
   "cell_type": "code",
   "execution_count": 16,
   "metadata": {},
   "outputs": [
    {
     "data": {
      "text/html": [
       "<div>\n",
       "<style scoped>\n",
       "    .dataframe tbody tr th:only-of-type {\n",
       "        vertical-align: middle;\n",
       "    }\n",
       "\n",
       "    .dataframe tbody tr th {\n",
       "        vertical-align: top;\n",
       "    }\n",
       "\n",
       "    .dataframe thead th {\n",
       "        text-align: right;\n",
       "    }\n",
       "</style>\n",
       "<table border=\"1\" class=\"dataframe\">\n",
       "  <thead>\n",
       "    <tr style=\"text-align: right;\">\n",
       "      <th></th>\n",
       "      <th>age</th>\n",
       "      <th>oldpeak</th>\n",
       "      <th>thalach</th>\n",
       "      <th>trestbps</th>\n",
       "    </tr>\n",
       "  </thead>\n",
       "  <tbody>\n",
       "    <tr>\n",
       "      <th>age</th>\n",
       "      <td>1.000000</td>\n",
       "      <td>0.030847</td>\n",
       "      <td>-0.032711</td>\n",
       "      <td>0.012744</td>\n",
       "    </tr>\n",
       "    <tr>\n",
       "      <th>oldpeak</th>\n",
       "      <td>0.030847</td>\n",
       "      <td>1.000000</td>\n",
       "      <td>-0.040806</td>\n",
       "      <td>0.015363</td>\n",
       "    </tr>\n",
       "    <tr>\n",
       "      <th>thalach</th>\n",
       "      <td>-0.032711</td>\n",
       "      <td>-0.040806</td>\n",
       "      <td>1.000000</td>\n",
       "      <td>-0.005430</td>\n",
       "    </tr>\n",
       "    <tr>\n",
       "      <th>trestbps</th>\n",
       "      <td>0.012744</td>\n",
       "      <td>0.015363</td>\n",
       "      <td>-0.005430</td>\n",
       "      <td>1.000000</td>\n",
       "    </tr>\n",
       "  </tbody>\n",
       "</table>\n",
       "</div>"
      ],
      "text/plain": [
       "               age   oldpeak   thalach  trestbps\n",
       "age       1.000000  0.030847 -0.032711  0.012744\n",
       "oldpeak   0.030847  1.000000 -0.040806  0.015363\n",
       "thalach  -0.032711 -0.040806  1.000000 -0.005430\n",
       "trestbps  0.012744  0.015363 -0.005430  1.000000"
      ]
     },
     "execution_count": 16,
     "metadata": {},
     "output_type": "execute_result"
    }
   ],
   "source": [
    "corr = df[numerical].corr()\n",
    "corr"
   ]
  },
  {
   "cell_type": "code",
   "execution_count": 17,
   "metadata": {},
   "outputs": [
    {
     "data": {
      "image/png": "[encoded data removed]",
      "text/plain": [
       "<Figure size 432x288 with 2 Axes>"
      ]
     },
     "metadata": {
      "needs_background": "light"
     },
     "output_type": "display_data"
    }
   ],
   "source": [
    "sns.heatmap(corr, center=0, annot=True);"
   ]
  },
  {
   "cell_type": "markdown",
   "metadata": {},
   "source": [
    "### Train test split"
   ]
  },
  {
   "cell_type": "code",
   "execution_count": 31,
   "metadata": {},
   "outputs": [],
   "source": [
    "train, test = train_test_split(df)"
   ]
  },
  {
   "cell_type": "markdown",
   "metadata": {},
   "source": [
    "### Baseline Model Using statsmodels"
   ]
  },
  {
   "cell_type": "code",
   "execution_count": 38,
   "metadata": {},
   "outputs": [],
   "source": [
    "predictors = 'age+oldpeak+thalach+trestbps+C(ca)+C(cp)+C(exang)+C(fbs)+C(num)+C(restecg)+C(sex)+C(slope)+C(thal)'\n",
    "outcome = 'chol'"
   ]
  },
  {
   "cell_type": "code",
   "execution_count": 40,
   "metadata": {},
   "outputs": [
    {
     "data": {
      "text/html": [
       "<table class=\"simpletable\">\n",
       "<caption>OLS Regression Results</caption>\n",
       "<tr>\n",
       "  <th>Dep. Variable:</th>          <td>chol</td>       <th>  R-squared:         </th>  <td>   0.101</td>  \n",
       "</tr>\n",
       "<tr>\n",
       "  <th>Model:</th>                   <td>OLS</td>       <th>  Adj. R-squared:    </th>  <td>   0.101</td>  \n",
       "</tr>\n",
       "<tr>\n",
       "  <th>Method:</th>             <td>Least Squares</td>  <th>  F-statistic:       </th>  <td>   3682.</td>  \n",
       "</tr>\n",
       "<tr>\n",
       "  <th>Date:</th>             <td>Tue, 16 Jul 2019</td> <th>  Prob (F-statistic):</th>   <td>  0.00</td>   \n",
       "</tr>\n",
       "<tr>\n",
       "  <th>Time:</th>                 <td>15:43:30</td>     <th>  Log-Likelihood:    </th> <td>-3.9838e+06</td>\n",
       "</tr>\n",
       "<tr>\n",
       "  <th>No. Observations:</th>      <td>750000</td>      <th>  AIC:               </th>  <td>7.968e+06</td> \n",
       "</tr>\n",
       "<tr>\n",
       "  <th>Df Residuals:</th>          <td>749976</td>      <th>  BIC:               </th>  <td>7.968e+06</td> \n",
       "</tr>\n",
       "<tr>\n",
       "  <th>Df Model:</th>              <td>    23</td>      <th>                     </th>      <td> </td>     \n",
       "</tr>\n",
       "<tr>\n",
       "  <th>Covariance Type:</th>      <td>nonrobust</td>    <th>                     </th>      <td> </td>     \n",
       "</tr>\n",
       "</table>\n",
       "<table class=\"simpletable\">\n",
       "<tr>\n",
       "         <td></td>            <th>coef</th>     <th>std err</th>      <th>t</th>      <th>P>|t|</th>  <th>[0.025</th>    <th>0.975]</th>  \n",
       "</tr>\n",
       "<tr>\n",
       "  <th>Intercept</th>       <td>  164.5490</td> <td>    0.703</td> <td>  233.979</td> <td> 0.000</td> <td>  163.171</td> <td>  165.927</td>\n",
       "</tr>\n",
       "<tr>\n",
       "  <th>C(ca)[T.1]</th>      <td>    4.4034</td> <td>    0.148</td> <td>   29.787</td> <td> 0.000</td> <td>    4.114</td> <td>    4.693</td>\n",
       "</tr>\n",
       "<tr>\n",
       "  <th>C(ca)[T.2]</th>      <td>    8.9373</td> <td>    0.183</td> <td>   48.847</td> <td> 0.000</td> <td>    8.579</td> <td>    9.296</td>\n",
       "</tr>\n",
       "<tr>\n",
       "  <th>C(ca)[T.3]</th>      <td>   20.7401</td> <td>    0.238</td> <td>   86.993</td> <td> 0.000</td> <td>   20.273</td> <td>   21.207</td>\n",
       "</tr>\n",
       "<tr>\n",
       "  <th>C(cp)[T.2]</th>      <td>    6.3653</td> <td>    0.241</td> <td>   26.368</td> <td> 0.000</td> <td>    5.892</td> <td>    6.838</td>\n",
       "</tr>\n",
       "<tr>\n",
       "  <th>C(cp)[T.3]</th>      <td>    2.3284</td> <td>    0.224</td> <td>   10.409</td> <td> 0.000</td> <td>    1.890</td> <td>    2.767</td>\n",
       "</tr>\n",
       "<tr>\n",
       "  <th>C(cp)[T.4]</th>      <td>    8.7354</td> <td>    0.218</td> <td>   40.079</td> <td> 0.000</td> <td>    8.308</td> <td>    9.163</td>\n",
       "</tr>\n",
       "<tr>\n",
       "  <th>C(exang)[T.1]</th>   <td>    4.4735</td> <td>    0.136</td> <td>   32.883</td> <td> 0.000</td> <td>    4.207</td> <td>    4.740</td>\n",
       "</tr>\n",
       "<tr>\n",
       "  <th>C(fbs)[T.1]</th>     <td>    2.2116</td> <td>    0.157</td> <td>   14.060</td> <td> 0.000</td> <td>    1.903</td> <td>    2.520</td>\n",
       "</tr>\n",
       "<tr>\n",
       "  <th>C(num)[T.1]</th>     <td>    5.3066</td> <td>    0.161</td> <td>   32.923</td> <td> 0.000</td> <td>    4.991</td> <td>    5.622</td>\n",
       "</tr>\n",
       "<tr>\n",
       "  <th>C(num)[T.2]</th>     <td>   11.4635</td> <td>    0.198</td> <td>   57.838</td> <td> 0.000</td> <td>   11.075</td> <td>   11.852</td>\n",
       "</tr>\n",
       "<tr>\n",
       "  <th>C(num)[T.3]</th>     <td>    2.9170</td> <td>    0.193</td> <td>   15.101</td> <td> 0.000</td> <td>    2.538</td> <td>    3.296</td>\n",
       "</tr>\n",
       "<tr>\n",
       "  <th>C(num)[T.4]</th>     <td>    3.1177</td> <td>    0.228</td> <td>   13.702</td> <td> 0.000</td> <td>    2.672</td> <td>    3.564</td>\n",
       "</tr>\n",
       "<tr>\n",
       "  <th>C(restecg)[T.1]</th> <td>   14.6708</td> <td>    0.413</td> <td>   35.506</td> <td> 0.000</td> <td>   13.861</td> <td>   15.481</td>\n",
       "</tr>\n",
       "<tr>\n",
       "  <th>C(restecg)[T.2]</th> <td>   13.1007</td> <td>    0.115</td> <td>  114.339</td> <td> 0.000</td> <td>   12.876</td> <td>   13.325</td>\n",
       "</tr>\n",
       "<tr>\n",
       "  <th>C(sex)[T.1]</th>     <td>  -15.7298</td> <td>    0.128</td> <td> -122.479</td> <td> 0.000</td> <td>  -15.982</td> <td>  -15.478</td>\n",
       "</tr>\n",
       "<tr>\n",
       "  <th>C(slope)[T.2]</th>   <td>   -0.0244</td> <td>    0.129</td> <td>   -0.189</td> <td> 0.850</td> <td>   -0.278</td> <td>    0.229</td>\n",
       "</tr>\n",
       "<tr>\n",
       "  <th>C(slope)[T.3]</th>   <td>   -5.0814</td> <td>    0.207</td> <td>  -24.517</td> <td> 0.000</td> <td>   -5.488</td> <td>   -4.675</td>\n",
       "</tr>\n",
       "<tr>\n",
       "  <th>C(thal)[T.6]</th>    <td>  -13.5761</td> <td>    0.217</td> <td>  -62.500</td> <td> 0.000</td> <td>  -14.002</td> <td>  -13.150</td>\n",
       "</tr>\n",
       "<tr>\n",
       "  <th>C(thal)[T.7]</th>    <td>    2.4405</td> <td>    0.139</td> <td>   17.601</td> <td> 0.000</td> <td>    2.169</td> <td>    2.712</td>\n",
       "</tr>\n",
       "<tr>\n",
       "  <th>age</th>             <td>    0.7396</td> <td>    0.006</td> <td>  117.337</td> <td> 0.000</td> <td>    0.727</td> <td>    0.752</td>\n",
       "</tr>\n",
       "<tr>\n",
       "  <th>oldpeak</th>         <td>    0.2858</td> <td>    0.054</td> <td>    5.333</td> <td> 0.000</td> <td>    0.181</td> <td>    0.391</td>\n",
       "</tr>\n",
       "<tr>\n",
       "  <th>thalach</th>         <td>    0.0016</td> <td>    0.002</td> <td>    0.664</td> <td> 0.507</td> <td>   -0.003</td> <td>    0.006</td>\n",
       "</tr>\n",
       "<tr>\n",
       "  <th>trestbps</th>        <td>    0.2430</td> <td>    0.003</td> <td>   75.674</td> <td> 0.000</td> <td>    0.237</td> <td>    0.249</td>\n",
       "</tr>\n",
       "</table>\n",
       "<table class=\"simpletable\">\n",
       "<tr>\n",
       "  <th>Omnibus:</th>       <td>64869.857</td> <th>  Durbin-Watson:     </th> <td>   2.001</td> \n",
       "</tr>\n",
       "<tr>\n",
       "  <th>Prob(Omnibus):</th>  <td> 0.000</td>   <th>  Jarque-Bera (JB):  </th> <td>90024.746</td>\n",
       "</tr>\n",
       "<tr>\n",
       "  <th>Skew:</th>           <td> 0.715</td>   <th>  Prob(JB):          </th> <td>    0.00</td> \n",
       "</tr>\n",
       "<tr>\n",
       "  <th>Kurtosis:</th>       <td> 3.914</td>   <th>  Cond. No.          </th> <td>2.61e+03</td> \n",
       "</tr>\n",
       "</table><br/><br/>Warnings:<br/>[1] Standard Errors assume that the covariance matrix of the errors is correctly specified.<br/>[2] The condition number is large, 2.61e+03. This might indicate that there are<br/>strong multicollinearity or other numerical problems."
      ],
      "text/plain": [
       "<class 'statsmodels.iolib.summary.Summary'>\n",
       "\"\"\"\n",
       "                            OLS Regression Results                            \n",
       "==============================================================================\n",
       "Dep. Variable:                   chol   R-squared:                       0.101\n",
       "Model:                            OLS   Adj. R-squared:                  0.101\n",
       "Method:                 Least Squares   F-statistic:                     3682.\n",
       "Date:                Tue, 16 Jul 2019   Prob (F-statistic):               0.00\n",
       "Time:                        15:43:30   Log-Likelihood:            -3.9838e+06\n",
       "No. Observations:              750000   AIC:                         7.968e+06\n",
       "Df Residuals:                  749976   BIC:                         7.968e+06\n",
       "Df Model:                          23                                         \n",
       "Covariance Type:            nonrobust                                         \n",
       "===================================================================================\n",
       "                      coef    std err          t      P>|t|      [0.025      0.975]\n",
       "-----------------------------------------------------------------------------------\n",
       "Intercept         164.5490      0.703    233.979      0.000     163.171     165.927\n",
       "C(ca)[T.1]          4.4034      0.148     29.787      0.000       4.114       4.693\n",
       "C(ca)[T.2]          8.9373      0.183     48.847      0.000       8.579       9.296\n",
       "C(ca)[T.3]         20.7401      0.238     86.993      0.000      20.273      21.207\n",
       "C(cp)[T.2]          6.3653      0.241     26.368      0.000       5.892       6.838\n",
       "C(cp)[T.3]          2.3284      0.224     10.409      0.000       1.890       2.767\n",
       "C(cp)[T.4]          8.7354      0.218     40.079      0.000       8.308       9.163\n",
       "C(exang)[T.1]       4.4735      0.136     32.883      0.000       4.207       4.740\n",
       "C(fbs)[T.1]         2.2116      0.157     14.060      0.000       1.903       2.520\n",
       "C(num)[T.1]         5.3066      0.161     32.923      0.000       4.991       5.622\n",
       "C(num)[T.2]        11.4635      0.198     57.838      0.000      11.075      11.852\n",
       "C(num)[T.3]         2.9170      0.193     15.101      0.000       2.538       3.296\n",
       "C(num)[T.4]         3.1177      0.228     13.702      0.000       2.672       3.564\n",
       "C(restecg)[T.1]    14.6708      0.413     35.506      0.000      13.861      15.481\n",
       "C(restecg)[T.2]    13.1007      0.115    114.339      0.000      12.876      13.325\n",
       "C(sex)[T.1]       -15.7298      0.128   -122.479      0.000     -15.982     -15.478\n",
       "C(slope)[T.2]      -0.0244      0.129     -0.189      0.850      -0.278       0.229\n",
       "C(slope)[T.3]      -5.0814      0.207    -24.517      0.000      -5.488      -4.675\n",
       "C(thal)[T.6]      -13.5761      0.217    -62.500      0.000     -14.002     -13.150\n",
       "C(thal)[T.7]        2.4405      0.139     17.601      0.000       2.169       2.712\n",
       "age                 0.7396      0.006    117.337      0.000       0.727       0.752\n",
       "oldpeak             0.2858      0.054      5.333      0.000       0.181       0.391\n",
       "thalach             0.0016      0.002      0.664      0.507      -0.003       0.006\n",
       "trestbps            0.2430      0.003     75.674      0.000       0.237       0.249\n",
       "==============================================================================\n",
       "Omnibus:                    64869.857   Durbin-Watson:                   2.001\n",
       "Prob(Omnibus):                  0.000   Jarque-Bera (JB):            90024.746\n",
       "Skew:                           0.715   Prob(JB):                         0.00\n",
       "Kurtosis:                       3.914   Cond. No.                     2.61e+03\n",
       "==============================================================================\n",
       "\n",
       "Warnings:\n",
       "[1] Standard Errors assume that the covariance matrix of the errors is correctly specified.\n",
       "[2] The condition number is large, 2.61e+03. This might indicate that there are\n",
       "strong multicollinearity or other numerical problems.\n",
       "\"\"\""
      ]
     },
     "execution_count": 40,
     "metadata": {},
     "output_type": "execute_result"
    }
   ],
   "source": [
    "formula = outcome + \"~\" + predictors\n",
    "model = ols(formula=formula, data=train).fit()\n",
    "model.summary()"
   ]
  },
  {
   "cell_type": "markdown",
   "metadata": {},
   "source": [
    "\n",
    "### Baseline Model Using sklearn"
   ]
  },
  {
   "cell_type": "code",
   "execution_count": 27,
   "metadata": {},
   "outputs": [
    {
     "data": {
      "text/plain": [
       "LinearRegression(copy_X=True, fit_intercept=True, n_jobs=None,\n",
       "         normalize=False)"
      ]
     },
     "execution_count": 27,
     "metadata": {},
     "output_type": "execute_result"
    }
   ],
   "source": [
    "df_features = pd.DataFrame(df.drop('chol', axis=1), columns=cols)\n",
    "\n",
    "linreg = LinearRegression()\n",
    "linreg.fit(df_features, df['chol'])"
   ]
  },
  {
   "cell_type": "code",
   "execution_count": 28,
   "metadata": {},
   "outputs": [
    {
     "data": {
      "text/plain": [
       "array([ 7.48317879e-01, -1.57191114e+01,  2.25050843e+00,  2.48125988e-01,\n",
       "        2.44674071e+00,  6.64206657e+00,  1.70614200e-03,  5.00727842e+00,\n",
       "        3.79969023e-01, -1.74477691e+00,  6.41630257e+00,  4.88014334e-01,\n",
       "        7.85119965e-01])"
      ]
     },
     "execution_count": 28,
     "metadata": {},
     "output_type": "execute_result"
    }
   ],
   "source": [
    "linreg.coef_"
   ]
  },
  {
   "cell_type": "code",
   "execution_count": 29,
   "metadata": {},
   "outputs": [
    {
     "data": {
      "text/plain": [
       "162.93100049492878"
      ]
     },
     "execution_count": 29,
     "metadata": {},
     "output_type": "execute_result"
    }
   ],
   "source": [
    "linreg.intercept_"
   ]
  },
  {
   "cell_type": "markdown",
   "metadata": {},
   "source": [
    "### Iterate through models"
   ]
  },
  {
   "cell_type": "code",
   "execution_count": 41,
   "metadata": {},
   "outputs": [],
   "source": [
    "def stepwise_selection(X, y,\n",
    "                      initial_list=[],\n",
    "                      threshold_in=0.01,\n",
    "                      threshold_out = 0.05,\n",
    "                      verbose=True):\n",
    "    \"\"\" Perform a forward-backward feature selection\n",
    "    based on p-value from statsmodels.api.OLS\n",
    "    Arguments:\n",
    "    X - pandas.DataFrame with candidate features\n",
    "    y - list-like with the target\n",
    "    initial_list - list of features to start with (column names of X)\n",
    "    threshold_in - include a feature if its p-value < threshold_in\n",
    "    threshold_out - exclude a feature if its p-value > threshold_out\n",
    "    verbose - whether to print the sequence of inclusions and exclusions\n",
    "    Returns: list of selected features\n",
    "    Always set threshold_in < threshold_out to avoid infinite looping.\n",
    "    See https://en.wikipedia.org/wiki/Stepwise_regression for the details\n",
    "    \"\"\"\n",
    "    included = list(initial_list)\n",
    "    while True:\n",
    "        changed=False\n",
    "        # forward step\n",
    "        excluded = list(set(X.columns)-set(included))\n",
    "        new_pval = pd.Series(index=excluded)\n",
    "        for new_column in excluded:\n",
    "            model = sm.OLS(y, sm.add_constant(pd.DataFrame(X[included+[new_column]]))).fit()\n",
    "            new_pval[new_column] = model.pvalues[new_column]\n",
    "        best_pval = new_pval.min()\n",
    "        if best_pval < threshold_in:\n",
    "            best_feature = new_pval.idxmin()\n",
    "            included.append(best_feature)\n",
    "            changed=True\n",
    "            if verbose:\n",
    "                print('Add  {:30} with p-value {:.6}'.format(best_feature, best_pval))\n",
    "\n",
    "        # backward step\n",
    "        model = sm.OLS(y, sm.add_constant(pd.DataFrame(X[included]))).fit()\n",
    "        # use all coefs except intercept\n",
    "        pvalues = model.pvalues.iloc[1:]\n",
    "        worst_pval = pvalues.max() # null if pvalues is empty\n",
    "        if worst_pval > threshold_out:\n",
    "            changed=True\n",
    "            worst_feature = pvalues.argmax()\n",
    "            included.remove(worst_feature)\n",
    "            if verbose:\n",
    "                print('Drop {:30} with p-value {:.6}'.format(worst_feature, worst_pval))\n",
    "        if not changed:\n",
    "            break\n",
    "    return included"
   ]
  },
  {
   "cell_type": "code",
   "execution_count": null,
   "metadata": {},
   "outputs": [],
   "source": [
    "stepwise_selection(df[df[~'chol']], df['chol'])"
   ]
  },
  {
   "cell_type": "code",
   "execution_count": null,
   "metadata": {},
   "outputs": [],
   "source": []
  },
  {
   "cell_type": "code",
   "execution_count": null,
   "metadata": {},
   "outputs": [],
   "source": []
  },
  {
   "cell_type": "code",
   "execution_count": null,
   "metadata": {},
   "outputs": [],
   "source": [
    "predictors = 'age+oldpeak+thalach+trestbps+C(ca)+C(cp)+C(exang)+C(fbs)+C(num)+C(restecg)+C(sex)+C(slope)+C(thal)'\n",
    "outcome = 'chol'"
   ]
  },
  {
   "cell_type": "markdown",
   "metadata": {},
   "source": [
    "### Cross Validate"
   ]
  },
  {
   "cell_type": "code",
   "execution_count": null,
   "metadata": {},
   "outputs": [],
   "source": []
  },
  {
   "cell_type": "markdown",
   "metadata": {},
   "source": [
    "### Final Model Summary \n",
    "- What is your model?\n",
    "- What transformations/feature engineering/standardization did you do?\n",
    "- What features are you using and why?\n",
    "- Interpret your model features using their coefficients\n",
    "- Recommendations?"
   ]
  },
  {
   "cell_type": "code",
   "execution_count": null,
   "metadata": {},
   "outputs": [],
   "source": []
  },
  {
   "cell_type": "markdown",
   "metadata": {},
   "source": [
    "### Assessment"
   ]
  }
 ],
 "metadata": {
  "kernelspec": {
   "display_name": "Python [conda env:learn-env] *",
   "language": "python",
   "name": "conda-env-learn-env-py"
  },
  "language_info": {
   "codemirror_mode": {
    "name": "ipython",
    "version": 3
   },
   "file_extension": ".py",
   "mimetype": "text/x-python",
   "name": "python",
   "nbconvert_exporter": "python",
   "pygments_lexer": "ipython3",
   "version": "3.6.6"
  }
 },
 "nbformat": 4,
 "nbformat_minor": 2
}
